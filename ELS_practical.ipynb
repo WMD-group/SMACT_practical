{
 "cells": [
  {
   "cell_type": "markdown",
   "metadata": {},
   "source": [
    "# The ELS matching procedure\n",
    "\n",
    "This pratical is based on the concepts introduced for contacting in photovoltaic cells. The procedure was published in 2016 in J. Mater. Chem. C, you can find the article [here](http://pubs.rsc.org/en/content/articlehtml/2016/tc/c5tc04091d).\n",
    "\n",
    "In this practical we do a screening for good contact materials for CH$_3$NH$_3$PbI$_3$. There are three main steps.\n",
    "* Electronic matching of band energies.\n",
    "* Lattice matching of surface vectors. \n",
    "* Site matching of under-coordinated surface atoms.\n",
    " \n",
    "<img src=\"Images/toc.gif\">\n",
    "\n",
    "## Electronic matching\n",
    "## Background\n",
    "\n",
    "Good contacts require a low barrier to electronic transport at the interface. This barrier is exponential in the discontinuity of the band energies across the interface. To a first approximation the offset or discontinuity can be estimated by comparing the ionisation potentials (IPs) or electron affinities (EAs) of the two materials, this is known as [Anderson's rule](https://en.wikipedia.org/wiki/Anderson%27s_rule).\n",
    "\n",
    "<img src=\"Images/anderson.gif\">\n",
    "\n",
    "Here we have collected a database of 173 measured or estimated semiconductor IPs and EAs (`CollatedData.txt`). We use it as the first step in our screening. The screening is performed by the script `scan_energies.py`. We apply several criteria.\n",
    "\n",
    "* The IP and EA of the target material are supplied using the flags `-i` and `-e`.\n",
    "* The IP/EA must be within a certain critical value of the IP/EA of the target material, by default this is set to 0.5 eV, but it can be contolled by the flag `-w`. The window is the full width so the max offset is 0.5*window.\n",
    "* The contact layer should be potentially a semiconductor, we apply a criterion based on its band gap. If the gap is too large we consider that it would be an insulator. By default this is set to 4.0 eV and is controlled by the flag `-g`."
   ]
  },
  {
   "cell_type": "code",
   "execution_count": 7,
   "metadata": {
    "collapsed": false
   },
   "outputs": [
    {
     "name": "stdout",
     "output_type": "stream",
     "text": [
      "Usage: scan_energies.py [options]\n",
      "\n",
      "Options:\n",
      "  -h, --help            show this help message and exit\n",
      "  -i IP, --IP=IP        The first material's IP, default 5.0\n",
      "  -e EA, --EA=EA        The first material's EA, default 4.0\n",
      "  -w WINDOW, --window=WINDOW\n",
      "                        The window around the IP/EA to allow +/- , eq w=1 gives +/- 0.5. Default 1.0\n",
      "  -g GAP, --gap=GAP     The bandgap above which a layer is considered insulating and disregarded Default 4.0\n"
     ]
    }
   ],
   "source": [
    "%%bash\n",
    "cd Electronic/\n",
    "python scan_energies.py -h"
   ]
  },
  {
   "cell_type": "markdown",
   "metadata": {},
   "source": [
    "## Now let's do a proper scan\n",
    "* IP = 5.7 eV.\n",
    "* EA = 4.0 eV.\n",
    "* Window = 0.25 eV.\n",
    "* Insulating threshold = 4.0 eV."
   ]
  },
  {
   "cell_type": "code",
   "execution_count": 8,
   "metadata": {
    "collapsed": false
   },
   "outputs": [
    {
     "name": "stdout",
     "output_type": "stream",
     "text": [
      "Number of potential electron contacting layers:  19\n",
      "Number of potential hole contacting layers:  5\n",
      "Conductive electron contacting layers: \n",
      "19\n",
      "['SiC', 'GaN', 'GaP', 'SnS2', 'ZnO', 'ZnS', 'ZnSe', 'TiO2', 'SrTiO3', 'Sb2O3', 'NaNbO3', 'KTaO3', 'BaTiO3', 'Nb2O5', 'Ce2O3', 'LiNbO3', 'MgTiO3', 'MnTiO3', 'ZnS2']\n",
      "Conductive hole contacting layers: \n",
      "5\n",
      "['ZnTe', 'Cu2O', 'CuI', 'In2S3', 'Ce2S3']\n"
     ]
    }
   ],
   "source": [
    "%%bash\n",
    "cd Electronic/\n",
    "python scan_energies.py -i 5.7 -e 4.0 -w 0.5 -g 4.0"
   ]
  },
  {
   "cell_type": "markdown",
   "metadata": {},
   "source": [
    "# Lattice matching\n",
    "## Background\n",
    "\n",
    "For good stable interfaces there must be some integer relation between the lattice constants of the two surfaces, which allows for perfect matching, with minimal strain. Generally a strain value of ~ 3% is considered acceptable, above this the interface will be coherent.\n",
    "\n",
    "This section uses the [ASE package](https://wiki.fysik.dtu.dk/ase/) to help to construct the low index surfaces of the materials identified in the electronic step, as well as those of the target material. The code `LatticeMatch.py` to identify good matches.\n",
    "\n",
    "First we need `.cif` files of the materials obtained from the electronic matching. These are obtained from the [Materials Project website](https://www.materialsproject.org).\n",
    "\n",
    "Most of the `.cif` files are there already, but we should get down Cu$_2$O and GaN, just for practice.\n",
    "\n",
    "## Lattice matching routine\n",
    "\n",
    "The lattice matching routine involves obtaining reduced cells for each surface and looking for multiples of each side which match. The procedure is described in more detail in [our paper](http://pubs.rsc.org/en/content/articlehtml/2016/tc/c5tc04091d).\n",
    "\n",
    "<img src=\"Images/lattice_match.gif\">\n",
    "\n",
    "The actual clever stuff of the algorithm comes from a paper from Zur and McGill from 1984, in [J. Appl. Physics](http://scitation.aip.org/content/aip/journal/jap/55/2/10.1063/1.333084).\n",
    "\n",
    "<img src=\"Images/ZurMcGill.jpg\">\n",
    "\n",
    "## The script\n",
    "\n",
    "The work is done by a python script called `LatticeMatch.py`. As input it reads `.cif` files. It takes a number of flags. \n",
    "* `-a` the file containing the crystallographic information of the first material.\n",
    "* `-b` the file containing the crystallographic information of the second material. \n",
    "* `-s` the strain threshold above which to cutoff, defaults to 0.05.\n",
    "* `-l` the maximum number of times to expand either surface to find matching conditions, defaults to 5.\n",
    "\n",
    "We will run the script in a bash loop to iterate over all interfaces of our contact materials with the (100) and (110) surfaces of pseudo-cubic CH$_3$NH$_3$PbI$_3$. Note that I have made all lattice parameters of CH$_3$NH$_3$PbI$_3$ exactly equal, this is to facilitate the removal of duplicate surfaces by the script."
   ]
  },
  {
   "cell_type": "code",
   "execution_count": 4,
   "metadata": {
    "collapsed": false
   },
   "outputs": [
    {
     "name": "stdout",
     "output_type": "stream",
     "text": [
      "MAPI/CH3NH3PbI3 Ce2O3 0\n",
      "MAPI/CH3NH3PbI3 Ce2S3 1\n",
      "(1, 0, 0) (1, 1, 0) (4, 5) (3, 2) [0.011004851148116224, 0.017198503596354192, 0.0]\n",
      "MAPI/CH3NH3PbI3 Cu2O 2\n",
      "(1, 0, 0) (0, 0, 1) (2, 2) (3, 3) [0.02227985614367098, 0.02227985614367098, 0.0]\n",
      "(1, 1, 0) (0, 1, 1) (2, 2) (3, 3) [0.02227985614367098, 0.022279856143670902, 0.0]\n",
      "MAPI/CH3NH3PbI3 CuI 0\n",
      "MAPI/CH3NH3PbI3 GaN 1\n",
      "(1, 1, 0) (0, 1, 0) (1, 3) (2, 5) [0.02241373323433055, 0.01839418438160209, 0.0]\n",
      "MAPI/CH3NH3PbI3 GaP 0\n",
      "MAPI/CH3NH3PbI3 In2S3 1\n",
      "(1, 0, 0) (1, 1, 0) (5, 5) (3, 1) [0.027561520571166825, 0.02852217520764771, 0.0]\n",
      "MAPI/CH3NH3PbI3 KTaO3 0\n",
      "MAPI/CH3NH3PbI3 MnTiO3 0\n",
      "MAPI/CH3NH3PbI3 NaNbO3 0\n",
      "MAPI/CH3NH3PbI3 Nb2O5 0\n",
      "MAPI/CH3NH3PbI3 Pr2S3 3\n",
      "(1, 0, 0) (0, 1, 0) (2, 5) (3, 2) [0.02374845648359347, 0.004003479065727359, 0.0]\n",
      "(1, 0, 0) (1, 1, 0) (4, 5) (3, 2) [0.02511525093694649, 0.004003479065727359, 0.0]\n",
      "(1, 1, 0) (0, 1, 1) (2, 2) (3, 1) [0.02374845648359347, 0.016146371181013554, 0.0]\n",
      "MAPI/CH3NH3PbI3 Sb2O3 0\n",
      "MAPI/CH3NH3PbI3 SiC 2\n",
      "(1, 1, 0) (0, 1, 0) (1, 5) (2, 3) [0.016063086812782377, 0.023915803967975286, 0.0]\n",
      "(1, 1, 0) (1, 0, 0) (1, 5) (2, 3) [0.01606308681278252, 0.023915803967975286, 0.0]\n",
      "MAPI/CH3NH3PbI3 SnS2 0\n",
      "MAPI/CH3NH3PbI3 SrTiO3 1\n",
      "(1, 0, 0) (1, 1, 0) (5, 5) (4, 4) [0.001456112898964677, 0.005657226903521428, 0.0]\n",
      "MAPI/CH3NH3PbI3 TiO2a 3\n",
      "(1, 0, 0) (0, 0, 1) (3, 2) (5, 1) [0.0018733322711665772, 0.021926652592768717, 0.0]\n",
      "(1, 0, 0) (1, 0, 1) (3, 5) (5, 2) [0.0018733322711665772, 0.009328951512805593, 0.0]\n",
      "(1, 1, 0) (1, 0, 0) (3, 3) (5, 4) [0.0018733322711665772, 0.008329451979792138, 0.0]\n",
      "MAPI/CH3NH3PbI3 V2O5 2\n",
      "(1, 1, 0) (1, 0, 0) (3, 4) (4, 3) [9.274609633763276e-05, 0.0253674941409549, 0.0]\n",
      "(1, 1, 0) (1, 0, 1) (3, 4) (4, 3) [9.274609633763276e-05, 0.021514394515179582, 0.0]\n",
      "MAPI/CH3NH3PbI3 ZnO 0\n",
      "MAPI/CH3NH3PbI3 ZnS 0\n",
      "MAPI/CH3NH3PbI3 ZnSe 0\n",
      "MAPI/CH3NH3PbI3 ZnTe 2\n",
      "(1, 0, 0) (0, 0, 1) (1, 1) (1, 1) [0.016861730409552227, 0.016861730409552227, 0.0]\n",
      "(1, 1, 0) (0, 1, 1) (1, 1) (1, 1) [0.016861730409552227, 0.016861730409552387, 0.0]\n"
     ]
    }
   ],
   "source": [
    "%%bash\n",
    "cd Lattice/\n",
    "for file in *.cif; do python LatticeMatch.py -a MAPI/CH3NH3PbI3.cif -b $file -s 0.03; done"
   ]
  },
  {
   "cell_type": "markdown",
   "metadata": {},
   "source": [
    "## Site matching\n",
    "\n",
    "So far the interface matching considered only the magnitude of the lattice vectors. It would be nice to be able to include some measure of how well the dangling bonds can passivate one another. We do this by calculating the site overlap. Basically, we determine the undercoordinated surface atoms on each side and project their positions into a 2D plane. \n",
    "\n",
    "<img src=\"Images/site_overlap.gif\">\n",
    "\n",
    "We then lay the planes over eachother and slide them around until there is the maximum coincidence. We calculate the overlap factor from \n",
    "\n",
    "\n",
    "\n",
    "$$  ASO = \\frac{2S_C}{S_A + S_B}$$\n",
    "\n",
    "where $S_C$ is the number of overlapping sites in the interface, and $S_A$ and $S_B$ are the number of sites in each surface.\n",
    "\n",
    "<img src=\"Images/ASO.gif\">\n",
    "\n",
    "## The script\n",
    "\n",
    "This section can be run in a stand-alone script called `csl.py`. It relies on a library of the 2D projections of lattice sites from different surfaces, which is called `surface_points.py`. Currently this contains a number of common materials types, but sometimes must be expanded as new materials are identified from the electronic and lattice steps.\n",
    "\n",
    "`csl.py` takes the following input parameters:\n",
    "* `-a` The first material to consider\n",
    "* `-b` The second material to consider\n",
    "* `-x` The first materials miller index to consider, format : 001\n",
    "* `-y` The second materials miller index to consider, format : 001\n",
    "* `-u` The first materials multiplicity, format : 2,2\n",
    "* `-v` The second materials multiplicity, format : 2,2\n",
    "\n",
    "We can run it for one example from the previous step, let's say GaN (010)x(2,5) with CH$_3$NH$_3$PbI$_3$ (110)x(1,3)\n"
   ]
  },
  {
   "cell_type": "code",
   "execution_count": 5,
   "metadata": {
    "collapsed": false
   },
   "outputs": [
    {
     "name": "stdout",
     "output_type": "stream",
     "text": [
      "CH3NH3PbI3 110\n",
      "GaN 010\n",
      "0.413793103448\n"
     ]
    }
   ],
   "source": [
    "%%bash\n",
    "cd Site/\n",
    "python csl.py -a CH3NH3PbI3 -b GaN -x 110 -y 010 -u 1,3 -v 2,5"
   ]
  },
  {
   "cell_type": "markdown",
   "metadata": {},
   "source": [
    "## All together\n",
    "\n",
    "The lattice and site examples above give a a feel for what is going on. For a proper screening procedure it would be nice to be able to run them together. That's exactly what happens with the `LatticeSite.py` script. It uses a new class `Pair` to store and pass information about the interface pairings. This includes the materials names, miller indices of matching surfaces, strians, multiplicities etc.\n",
    "\n",
    "The `LatticeSite.py` script takes the same variables as `LatticeMatch.py`. It just takes a little longer to run, so a bit of patience is required.\n",
    "\n",
    "This script outputs the standard pair information as well as the site matching factor, which is calculated as\n",
    "\n",
    "$$ \\frac{100\\times ASO}{1 + |\\epsilon|}$$\n",
    "\n",
    "where the $ASO$ was defined above, and $\\epsilon$ in the average of the $u$ and $v$ strains. The number is a measure of the mechanical stability of an interface. A perfect interface of a material with itself would have a fator of 100.\n",
    "\n",
    "Where lattices match but no information on the structure of the surface exists it is flagged up. You can always add new surfaces as required."
   ]
  },
  {
   "cell_type": "code",
   "execution_count": 6,
   "metadata": {
    "collapsed": false
   },
   "outputs": [
    {
     "name": "stdout",
     "output_type": "stream",
     "text": [
      "\n",
      "CH3NH3PbI3 Ce2S3\n",
      "(1, 0, 0) (1, 1, 0) 17.2175215266\n",
      "\n",
      "CH3NH3PbI3 Cu2O\n",
      "(1, 0, 0) (0, 0, 1) 27.9487347811\n",
      "\n",
      "CH3NH3PbI3 Cu2O\n",
      "(1, 1, 0) (0, 1, 1) 27.9487347811\n",
      "\n",
      "CH3NH3PbI3 GaN\n",
      "(1, 1, 0) (0, 1, 0) 40.5518912267\n",
      "\n",
      "CH3NH3PbI3 In2S3\n",
      "No non-polar surface 110 is currently in the database, maybe you want to add it.\n",
      "\n",
      "CH3NH3PbI3 SiC\n",
      "(1, 1, 0) (0, 1, 0) 21.7867178162\n",
      "\n",
      "CH3NH3PbI3 SiC\n",
      "(1, 1, 0) (1, 0, 0) 21.7867178162\n",
      "\n",
      "CH3NH3PbI3 SrTiO3\n",
      "(1, 0, 0) (1, 1, 0) 24.3038032968\n",
      "\n",
      "CH3NH3PbI3 TiO2a\n",
      "(1, 0, 0) (0, 0, 1) 42.3531408021\n",
      "\n",
      "CH3NH3PbI3 TiO2a\n",
      "(1, 0, 0) (1, 0, 1) 32.8594279425\n",
      "\n",
      "CH3NH3PbI3 TiO2a\n",
      "(1, 1, 0) (1, 0, 0) 35.1946081629\n"
     ]
    }
   ],
   "source": [
    "%%bash\n",
    "cd Site/\n",
    "for file in *cif; do python LatticeSite.py -a MAPI/CH3NH3PbI3.cif -b $file -s 0.03; done"
   ]
  },
  {
   "cell_type": "code",
   "execution_count": null,
   "metadata": {
    "collapsed": true
   },
   "outputs": [],
   "source": []
  }
 ],
 "metadata": {
  "kernelspec": {
   "display_name": "Python 2",
   "language": "python",
   "name": "python2"
  },
  "language_info": {
   "codemirror_mode": {
    "name": "ipython",
    "version": 2
   },
   "file_extension": ".py",
   "mimetype": "text/x-python",
   "name": "python",
   "nbconvert_exporter": "python",
   "pygments_lexer": "ipython2",
   "version": "2.7.10"
  }
 },
 "nbformat": 4,
 "nbformat_minor": 0
}
