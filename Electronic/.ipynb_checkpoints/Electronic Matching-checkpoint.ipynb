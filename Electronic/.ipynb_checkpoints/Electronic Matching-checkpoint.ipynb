{
 "cells": [
  {
   "cell_type": "markdown",
   "metadata": {},
   "source": [
    "# Electronic matching\n",
    "## Background\n",
    "\n",
    "Good contacts require a low barrier to electronic transport at the interface. This barrier is exponential in the discontinuity of the band energies across the interface. To a first approximation the offset or discontinuity can be estimated by comparing the ionisation potentials (IPs) or electron affinities (EAs) of the two materials, this is known as [Anderson's rule](https://en.wikipedia.org/wiki/Anderson%27s_rule).\n",
    "\n",
    "Here we have collected a database of 175 measured or estimated semiconductor IPs and EAs (`CollatedData.txt`). We use it as the first step in our screening. The screening is performed by the script `scan_energies.py`. We apply several criteria.\n",
    "\n",
    "* The IP and EA of the target material are supplied using the flags `-i` and `-e`.\n",
    "* The IP/EA must be within a certain critical value of the IP/EA of the target material, by default this is set to 0.5 eV, but it can be contolled by the flag `-w`.\n",
    "* The contact layer should be potentially a semiconductor, we apply a criterion based on its band gap. If the gap is too large we consider that it would be an insulator. By default this is set to 4.0 eV and is controlled by the flag `-g`."
   ]
  },
  {
   "cell_type": "code",
   "execution_count": 9,
   "metadata": {
    "collapsed": false
   },
   "outputs": [
    {
     "name": "stdout",
     "output_type": "stream",
     "text": [
      "Usage: scan_energies.py [options]\n",
      "\n",
      "Options:\n",
      "  -h, --help            show this help message and exit\n",
      "  -i IP, --IP=IP        The first material's IP, default 5.0\n",
      "  -e EA, --EA=EA        The first material's EA, default 4.0\n",
      "  -w WINDOW, --window=WINDOW\n",
      "                        The window around the IP/EA to allow +/- , eq w=1 gives +/- 0.5. Default 1.0\n",
      "  -g GAP, --gap=GAP     The bandgap above which a layer is considered insulating and disregarded Default 4.0\n"
     ]
    }
   ],
   "source": [
    "%%bash\n",
    "python scan_energies.py -h"
   ]
  },
  {
   "cell_type": "markdown",
   "metadata": {},
   "source": [
    "## Now let's do a proper scan\n",
    "* IP = 5.7 eV.\n",
    "* EA = 4.0 eV.\n",
    "* Window = 0.4 eV.\n",
    "* Insulating threshold = 4.0 eV."
   ]
  },
  {
   "cell_type": "code",
   "execution_count": 12,
   "metadata": {
    "collapsed": false
   },
   "outputs": [
    {
     "name": "stdout",
     "output_type": "stream",
     "text": [
      "Number of potential electron contacting layers:  20\n",
      "Number of potential hole contacting layers:  6\n",
      "Conductive electron contacting layers: \n",
      "20\n",
      "['SiC', 'GaN', 'GaP', 'SnS2', 'ZnO', 'ZnS', 'ZnSe', 'V2O5', 'TiO2', 'SrTiO3', 'Sb2O3', 'NaNbO3', 'KTaO3', 'BaTiO3', 'Nb2O5', 'Ce2O3', 'LiNbO3', 'MgTiO3', 'MnTiO3', 'ZnS2']\n",
      "Conductive hole contacting layers: \n",
      "6\n",
      "['ZnTe', 'Cu2O', 'CuI', 'In2S3', 'Ce2S3', 'Pr2S3']\n"
     ]
    }
   ],
   "source": [
    "%%bash\n",
    "python scan_energies.py -i 5.7 -e 4.0 -w 0.5 -g 4.0"
   ]
  },
  {
   "cell_type": "code",
   "execution_count": null,
   "metadata": {
    "collapsed": true
   },
   "outputs": [],
   "source": []
  }
 ],
 "metadata": {
  "kernelspec": {
   "display_name": "Python 2",
   "language": "python",
   "name": "python2"
  },
  "language_info": {
   "codemirror_mode": {
    "name": "ipython",
    "version": 2
   },
   "file_extension": ".py",
   "mimetype": "text/x-python",
   "name": "python",
   "nbconvert_exporter": "python",
   "pygments_lexer": "ipython2",
   "version": "2.7.10"
  }
 },
 "nbformat": 4,
 "nbformat_minor": 0
}
